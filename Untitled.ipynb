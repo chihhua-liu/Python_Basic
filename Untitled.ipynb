{
 "cells": [
  {
   "cell_type": "code",
   "execution_count": 3,
   "metadata": {},
   "outputs": [
    {
     "name": "stdout",
     "output_type": "stream",
     "text": [
      "蟒科（學名：Pythonidae）是一類無毒蛇類，原產於非洲、亞洲以及澳洲。其中包含了一些世界上最大型的蛇類。已知約有8屬共26種。其拉丁名字來源於希臘神話中的大蟒蛇皮同。\n",
      "蟒蛇在全世界不少國家也有人把其當作寵物飼養。雖然蟒蛇的牙沒有毒性，但由於蟒蛇一般比其他蛇類較大較長，可以吞下很多比自身更大的物件（例如：羊）。若沒有有關經驗，一般是不許飼養的。\n",
      "['C++', 'C语言', 'C♯', '维生素C', 'Objective-C', 'C', 'Microsoft Visual C++', 'C AllStar', 'C-130運輸機', 'C-47運輸機']\n"
     ]
    },
    {
     "data": {
      "text/plain": [
       "'臺北市，通稱臺北（俗字寫作台北；臺灣話：Tâi-pak；客家话：Thòi-pet），簡稱「北」，是中華民國首都暨直轄市，臺灣六都之一。為臺灣的政治、經濟、文化、教育、醫療、學術研究等領域的發展中心。\\n臺北市位於臺灣北部的臺北盆地，四周均與新北市接壤，亦是臺北都會區、乃至於北臺灣的中心城市。'"
      ]
     },
     "execution_count": 3,
     "metadata": {},
     "output_type": "execute_result"
    }
   ],
   "source": [
    "#cd C:\\Users\\Admin\\PycharmProjects\\BDPY1026\n",
    "##\n",
    "import wikipedia\n",
    "\n",
    "print(wikipedia.summary(\"Pythonidae\"))\n",
    "print(wikipedia.search(\"C++\"))\n",
    "\n",
    "taipei = wikipedia.page(\"Taipei\")\n",
    "\n",
    "##\n",
    "taipei.title, taipei.url\n",
    "##\n",
    "taipei.content\n",
    "##\n",
    "taipei.links\n",
    "##\n",
    "wikipedia.set_lang('zh')\n",
    "wikipedia.summary(\"Taipei\", sentences=3)"
   ]
  }
 ],
 "metadata": {
  "kernelspec": {
   "display_name": "Python 3",
   "language": "python",
   "name": "python3"
  },
  "language_info": {
   "codemirror_mode": {
    "name": "ipython",
    "version": 3
   },
   "file_extension": ".py",
   "mimetype": "text/x-python",
   "name": "python",
   "nbconvert_exporter": "python",
   "pygments_lexer": "ipython3",
   "version": "3.8.6"
  }
 },
 "nbformat": 4,
 "nbformat_minor": 4
}
